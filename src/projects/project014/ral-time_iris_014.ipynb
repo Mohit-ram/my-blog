{
 "cells": [
  {
   "cell_type": "markdown",
   "metadata": {},
   "source": [
    "# prj js object\n",
    "js object\n",
    "const prj = {Id: 14,\n",
    "    number: \"014\",\n",
    "    title: \"Real time Iris Species classification with streamlit interface\",\n",
    "    info: \"Using stremlit interface to get input features and classify iris species using Random Forest\",\n",
    "    subInfo: \"Streamlit, Random Forest, Prediction\",\n",
    "    imgPath: thb[14],\n",
    "    category: \"cat-c\",\n",
    "    dataSource: \"link\",\n",
    "}"
   ]
  },
  {
   "cell_type": "markdown",
   "metadata": {},
   "source": [
    "Task: explain code into paragraphs briefly and at last provide code with proper comments.\n",
    "Style: Academic\n",
    "Tone: Professional and 1st person\n",
    "Audience: 30-year old\n",
    "Format: Text\n"
   ]
  },
  {
   "cell_type": "markdown",
   "metadata": {},
   "source": [
    "#Step1\n",
    "<p>Project intro</p>\n",
    "      <h4></h4>\n",
    "      <Code\n",
    "        code={`\n",
    "          \n",
    "          `}\n",
    "      />\n",
    "      <p>\n",
    "        <br />\n",
    "        <br />\n",
    "      </p>\n",
    "\n",
    "<div className=\"d-block text-center\">\n",
    "        <img\n",
    "          src={img02}\n",
    "          alt=\"result1\"\n",
    "          style={{ height: \"300px\", width: \"300px\" }}\n",
    "        />\n",
    "</div>"
   ]
  },
  {
   "cell_type": "markdown",
   "metadata": {},
   "source": [
    "<p>\n",
    "\n",
    "We begin by importing necessary libraries: streamlit, pandas, and RandomForestClassifier from sklearn. The load_iris dataset contains information about iris flowers, including features like sepal length, sepal width, petal length, and petal width. We create a DataFrame (df) to hold the iris data and add a new column called “species” to store the target labels (setosa, versicolor, or virginica). We initialize a RandomForestClassifier model, which is an ensemble learning method based on decision trees. The model is trained using the features (sepal length, sepal width, petal length, and petal width) and the corresponding species labels.\n",
    "<br/>\n",
    "The Streamlit app displays a sidebar with sliders for user input. Users can adjust the sepal length, sepal width, petal length, and petal width to predict the species. The user’s input values are collected and stored in input_data. The trained model predicts the species based on these input features. The predicted species label is retrieved from target_names. The predicted species is shown to the user.<br>\n",
    "<br>\n",
    "\n",
    "</p>"
   ]
  },
  {
   "cell_type": "code",
   "execution_count": null,
   "metadata": {},
   "outputs": [],
   "source": [
    "import streamlit as st\n",
    "import pandas as pd\n",
    "from sklearn.datasets import load_iris\n",
    "from sklearn.ensemble import RandomForestClassifier\n",
    "# Load the Iris dataset\n",
    "def load_data():\n",
    "    iris = load_iris()\n",
    "    df = pd.DataFrame(iris.data, columns=iris.feature_names)\n",
    "    df['species'] = iris.target\n",
    "    return df, iris.target_names\n",
    "df, target_names = load_data()\n",
    "features = df.drop(\"species\", axis=1)\n",
    "# Initialize the Random Forest model\n",
    "model = RandomForestClassifier()\n",
    "model.fit(features, df['species'])\n",
    "# Sidebar input for feature values\n",
    "st.sidebar.title(\"Feature values\")\n",
    "sepal_length = st.sidebar.slider(\"Sepal Length\", float(df['sepal length (cm)'].min()), float(df['sepal length (cm)'].max()))\n",
    "sepal_width = st.sidebar.slider(\"Sepal Width\", float(df['sepal width (cm)'].min()), float(df['sepal width (cm)'].max()))\n",
    "petal_length = st.sidebar.slider(\"Petal Length\", float(df['petal length (cm)'].min()), float(df['petal length (cm)'].max()))\n",
    "petal_width = st.sidebar.slider(\"Petal Width\", float(df['petal width (cm)'].min()), float(df['petal width (cm)'].max()))\n",
    "# Create input data for prediction\n",
    "input_data = [[sepal_length, sepal_width, petal_length, petal_width]]\n",
    "# Make the prediction\n",
    "prediction = model.predict(input_data)\n",
    "predicted_species = target_names[prediction[0]]\n",
    "# Display the result\n",
    "st.write(f\"The predicted species based on given input features is: {predicted_species}\")\n"
   ]
  },
  {
   "cell_type": "markdown",
   "metadata": {},
   "source": [
    "<p>\n",
    "\n",
    "<br>\n",
    "<br>\n",
    "\n",
    "</p>"
   ]
  },
  {
   "cell_type": "code",
   "execution_count": null,
   "metadata": {},
   "outputs": [],
   "source": [
    "#Step3"
   ]
  },
  {
   "cell_type": "markdown",
   "metadata": {},
   "source": [
    "<p>\n",
    "\n",
    "<br>\n",
    "<br>\n",
    "\n",
    "</p>"
   ]
  },
  {
   "cell_type": "code",
   "execution_count": null,
   "metadata": {},
   "outputs": [],
   "source": [
    "#Step4"
   ]
  },
  {
   "cell_type": "markdown",
   "metadata": {},
   "source": [
    "<p>\n",
    "\n",
    "<br>\n",
    "<br>\n",
    "\n",
    "</p>"
   ]
  },
  {
   "cell_type": "code",
   "execution_count": null,
   "metadata": {},
   "outputs": [],
   "source": [
    "#Step5"
   ]
  },
  {
   "cell_type": "markdown",
   "metadata": {},
   "source": [
    "<p>\n",
    "\n",
    "<br>\n",
    "<br>\n",
    "\n",
    "</p>"
   ]
  }
 ],
 "metadata": {
  "kernelspec": {
   "display_name": "mlenv",
   "language": "python",
   "name": "python3"
  },
  "language_info": {
   "name": "python",
   "version": "3.10.13"
  }
 },
 "nbformat": 4,
 "nbformat_minor": 2
}
