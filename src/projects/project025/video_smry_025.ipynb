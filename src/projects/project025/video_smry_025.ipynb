{
 "cells": [
  {
   "cell_type": "markdown",
   "metadata": {},
   "source": [
    "# prj js object\n",
    "js object\n",
    "const prj = {Id: 25,\n",
    "    number: \"025\",\n",
    "    title: \"SYoutube Video Summary AI app\",\n",
    "    info: \"Summarizing a valid youtube and deploying into cloud , using Langchain, Gemma, streamlit. \",\n",
    "    subInfo: \"subinfo\",\n",
    "    imgPath: thb[5],\n",
    "    category: \"cat-c\",\n",
    "    dataSource: \"link\",\n",
    "}"
   ]
  },
  {
   "cell_type": "markdown",
   "metadata": {},
   "source": [
    "Task: explain code into paragraphs briefly and at last provide code with proper comments.\n",
    "Style: Academic\n",
    "Tone: Professional and 1st person\n",
    "Audience: 30-year old\n",
    "Format: Text\n"
   ]
  },
  {
   "cell_type": "markdown",
   "metadata": {},
   "source": [
    "In today’s digital age, video content is abundant, and extracting meaningful information from lengthy videos can be time-consuming. This project aims to address this challenge by leveraging artificial intelligence to summarize YouTube videos efficiently. By utilizing the LangChain library and the Groq API, we have developed a Streamlit web application that generates concise summaries of video content based on transcripts obtained from YouTube.\n",
    "<br/>\n",
    "The application is designed to be user-friendly, allowing users to input a YouTube URL and receive a summary of the video’s content. This not only saves time but also provides a quick overview of the video’s key points, making it easier for users to decide whether to watch the full video. The integration of advanced AI models ensures that the summaries are accurate and informative, providing a valuable tool for content consumption in the digital era."
   ]
  },
  {
   "cell_type": "markdown",
   "metadata": {},
   "source": [
    "#Step1\n",
    "<p>Project intro</p>\n",
    "      <h4></h4>\n",
    "      <Code\n",
    "        code={`\n",
    "          \n",
    "          `}\n",
    "      />\n",
    "      <p>\n",
    "        <br />\n",
    "        <br />\n",
    "      </p>\n",
    "\n",
    "<div className=\"d-block text-center\">\n",
    "        <img\n",
    "          src={img02}\n",
    "          alt=\"result1\"\n",
    "          style={{ height: \"300px\", width: \"300px\" }}\n",
    "        />\n",
    "</div>"
   ]
  },
  {
   "cell_type": "markdown",
   "metadata": {},
   "source": [
    "<p>\n",
    "\n",
    "<br>\n",
    "<br>\n",
    "\n",
    "</p>"
   ]
  },
  {
   "cell_type": "code",
   "execution_count": null,
   "metadata": {},
   "outputs": [],
   "source": [
    "import validators,streamlit as st\n",
    "from langchain.prompts import PromptTemplate\n",
    "from langchain_groq import ChatGroq\n",
    "from langchain.chains.summarize import load_summarize_chain\n",
    "from langchain_community.document_loaders import YoutubeLoader,UnstructuredURLLoader\n",
    "import os\n",
    "\n",
    "## sstreamlit APP\n",
    "st.set_page_config(page_title=\"Youtube Video summary\")\n",
    "st.title(\"Youtube Video summary\")\n",
    "st.write(\"AI tries to summarise video based on transcripts obtainedf rom youtube.\")\n",
    "st.write(\"More context more training time and more reasonable summary\")\n",
    "st.subheader('Youtube URL')\n",
    "\n",
    "\n",
    "\n",
    "## Get the Groq API Key and url(YT or website)to be summarized\n",
    "groq_api_key=st.secrets[\"GROQ_API_KEY\"]\n",
    "llm=ChatGroq(groq_api_key=groq_api_key,model=\"Gemma-7b-It\")\n",
    "generic_url=st.text_input(\"URL\",label_visibility=\"collapsed\")\n",
    "\n",
    "## Gemma Model USsing Groq API\n",
    "llm =ChatGroq(model=\"Gemma-7b-It\", groq_api_key=groq_api_key)\n",
    "\n",
    "prompt_template=\"\"\"\n",
    "Provide a summary of the following content in 300 words:\n",
    "Content:{text}\n",
    "\n",
    "\"\"\"\n",
    "prompt=PromptTemplate(template=prompt_template,input_variables=[\"text\"])\n",
    "\n",
    "if st.button(\"Summarize the Content for youtube video\"):\n",
    "    ## Validate all the inputs\n",
    "    if not groq_api_key.strip() or not generic_url.strip():\n",
    "        st.error(\"Please provide the information to get started\")\n",
    "    elif not validators.url(generic_url):\n",
    "        st.error(\"Please enter a valid youtube Url.\")\n",
    "\n",
    "    else:\n",
    "        try:\n",
    "            with st.spinner(\"Waiting...\"):\n",
    "                ## loading the website or yt video data\n",
    "                \n",
    "                loader=YoutubeLoader.from_youtube_url(generic_url,add_video_info=True)\n",
    "                docs=loader.load()\n",
    "\n",
    "                ## Chain For Summarization\n",
    "                chain=load_summarize_chain(llm,chain_type=\"stuff\",prompt=prompt)\n",
    "                output_summary=chain.run(docs)\n",
    "\n",
    "                st.success(output_summary)\n",
    "        except Exception as e:\n",
    "            st.exception(f\"Exception:{e}\")\n",
    "                    "
   ]
  },
  {
   "cell_type": "markdown",
   "metadata": {},
   "source": [
    "<p>\n",
    "A Streamlit web application designed to summarize YouTube videos using AI. The application leverages the LangChain library and the Groq API to generate concise summaries of video content based on transcripts obtained from YouTube.First, we import the necessary libraries, including validators for URL validation, streamlit for the web interface, and various components from the LangChain library for handling prompts and summarization. We also import os to manage environment variables.\n",
    "<br/>\n",
    "The Streamlit app is configured with a title and a brief description. The user is prompted to input a YouTube URL, which is then validated. If the URL is valid, the app proceeds to load the video data using the YoutubeLoader from LangChain. This loader extracts the transcript and other relevant information from the provided YouTube URL. We then define a prompt template for the summarization task. This template instructs the AI to provide a summary of the content in 300 words. The ChatGroq model is initialized with the Groq API key and the specified model, Gemma-7b-It.\n",
    "<br/>\n",
    "When the user clicks the “Summarize the Content for youtube video” button, the app validates the inputs. If the inputs are valid, it loads the video data and runs the summarization chain using the defined prompt. The summary is then displayed to the user.\n",
    "<br/>\n",
    "\n",
    "</p>"
   ]
  },
  {
   "cell_type": "code",
   "execution_count": null,
   "metadata": {},
   "outputs": [],
   "source": [
    "#Step3"
   ]
  },
  {
   "cell_type": "markdown",
   "metadata": {},
   "source": [
    "<p>\n",
    "\n",
    "<br>\n",
    "<br>\n",
    "\n",
    "</p>"
   ]
  },
  {
   "cell_type": "code",
   "execution_count": null,
   "metadata": {},
   "outputs": [],
   "source": [
    "#Step4"
   ]
  },
  {
   "cell_type": "markdown",
   "metadata": {},
   "source": [
    "<p>\n",
    "\n",
    "<br>\n",
    "<br>\n",
    "\n",
    "</p>"
   ]
  },
  {
   "cell_type": "code",
   "execution_count": null,
   "metadata": {},
   "outputs": [],
   "source": [
    "#Step5"
   ]
  },
  {
   "cell_type": "markdown",
   "metadata": {},
   "source": [
    "<p>\n",
    "\n",
    "<br>\n",
    "<br>\n",
    "\n",
    "</p>"
   ]
  }
 ],
 "metadata": {
  "kernelspec": {
   "display_name": "mlenv",
   "language": "python",
   "name": "python3"
  },
  "language_info": {
   "name": "python",
   "version": "3.10.13"
  }
 },
 "nbformat": 4,
 "nbformat_minor": 2
}
