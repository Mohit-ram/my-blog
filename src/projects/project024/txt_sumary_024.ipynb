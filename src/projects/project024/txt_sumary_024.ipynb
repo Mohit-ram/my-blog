{
 "cells": [
  {
   "cell_type": "markdown",
   "metadata": {},
   "source": [
    "# prj js object\n",
    "js object\n",
    "const prj = {Id: 24,\n",
    "    number: \"024\",\n",
    "    title: \"WebPage Summary AI app\",\n",
    "    info: \"Summarizing valid web page and deploying into cloud , using Langchain, Gemma, streamlit. \",\n",
    "    subInfo: \"End-To-End, \",\n",
    "    imgPath: thb[5],\n",
    "    category: \"cat-d\",\n",
    "    dataSource: \"https://texsummarylc-zqmbbyxqndscfy3xr7nzyp.streamlit.app/\"   \n",
    "    ,\n",
    "}"
   ]
  },
  {
   "cell_type": "markdown",
   "metadata": {},
   "source": [
    "Task: explain code into paragraphs briefly and at last provide code with proper comments.\n",
    "Style: Academic\n",
    "Tone: Professional and 1st person\n",
    "Audience: 30-year old\n",
    "Format: Text\n"
   ]
  },
  {
   "cell_type": "markdown",
   "metadata": {},
   "source": [
    "In today’s digital age, the sheer volume of information available online can be overwhelming. With countless articles, research papers, and web pages, it becomes increasingly challenging to extract key insights efficiently. This project aims to address this issue by developing a web application that leverages advanced natural language processing (NLP) techniques to summarize content from any given URL.\n",
    "\n",
    "Utilizing the capabilities of the Groq API and Streamlit, this application provides users with concise summaries of web content, enabling them to grasp essential information quickly. The project integrates various components, including URL validation, content extraction, and summarization chains, to deliver accurate and coherent summaries. By automating the summarization process, this tool not only saves time but also enhances productivity, making it an invaluable resource for researchers, students, and professionals alike."
   ]
  },
  {
   "cell_type": "markdown",
   "metadata": {},
   "source": [
    "#Step1\n",
    "<p>Project intro</p>\n",
    "      <h4></h4>\n",
    "      <Code\n",
    "        code={`\n",
    "          \n",
    "          `}\n",
    "      />\n",
    "      <p>\n",
    "        <br />\n",
    "        <br />\n",
    "      </p>\n",
    "\n",
    "<div className=\"d-block text-center\">\n",
    "        <img\n",
    "          src={img02}\n",
    "          alt=\"result1\"\n",
    "          style={{ height: \"300px\", width: \"300px\" }}\n",
    "        />\n",
    "</div>"
   ]
  },
  {
   "cell_type": "markdown",
   "metadata": {},
   "source": [
    "<p>\n",
    "\n",
    "<br>\n",
    "<br>\n",
    "\n",
    "</p>"
   ]
  },
  {
   "cell_type": "code",
   "execution_count": null,
   "metadata": {},
   "outputs": [],
   "source": [
    "import validators, streamlit as st\n",
    "from langchain.prompts import PromptTemplate\n",
    "from langchain_groq import ChatGroq\n",
    "from langchain.chains.summarize import load_summarize_chain\n",
    "from langchain_community.document_loaders import UnstructuredURLLoader\n",
    "import os\n",
    "\n",
    "# Streamlit app configuration\n",
    "st.set_page_config(page_title=\"Text Summarization\")\n",
    "st.title(\"Text Summarization of a webpage\")\n",
    "st.subheader('Summarize URL')\n",
    "\n",
    "# Get the Groq API Key and URL to be summarized\n",
    "groq_api_key = st.secrets[\"GROQ_API_KEY\"]\n",
    "llm = ChatGroq(groq_api_key=groq_api_key, model=\"Gemma-7b-It\")\n",
    "generic_url = st.text_input(\"URL\", label_visibility=\"collapsed\")\n",
    "\n",
    "# Define the prompt template for summarization\n",
    "prompt_template = \"\"\"\n",
    "Provide a summary of the following content in 300 words:\n",
    "Content:{text}\n",
    "\"\"\"\n",
    "prompt = PromptTemplate(template=prompt_template, input_variables=[\"text\"])\n",
    "\n",
    "# Button to trigger summarization\n",
    "if st.button(\"Summarize the Content from a Website\"):\n",
    "    # Validate inputs\n",
    "    if not groq_api_key.strip() or not generic_url.strip():\n",
    "        st.error(\"Please provide the information to get started\")\n",
    "    elif not validators.url(generic_url):\n",
    "        st.error(\"Please enter a valid URL.\")\n",
    "    else:\n",
    "        try:\n",
    "            with st.spinner(\"Waiting...\"):\n",
    "                # Load content from the URL\n",
    "                loader = UnstructuredURLLoader(\n",
    "                    urls=[generic_url], \n",
    "                    ssl_verify=False,\n",
    "                    headers={\"User-Agent\": \"Mozilla/5.0 (Macintosh; Intel Mac OS X 13_5_1) AppleWebKit/537.36 (KHTML, like Gecko) Chrome/116.0.0.0 Safari/537.36\"}\n",
    "                )\n",
    "                docs = loader.load()\n",
    "\n",
    "                # Chain for summarization\n",
    "                chain = load_summarize_chain(llm, chain_type=\"stuff\", prompt=prompt)\n",
    "                output_summary = chain.run(docs)\n",
    "\n",
    "                # Display the summary\n",
    "                st.success(output_summary)\n",
    "        except Exception as e:\n",
    "            st.exception(f\"Exception: {e}\")\n"
   ]
  },
  {
   "cell_type": "markdown",
   "metadata": {},
   "source": [
    "<p>\n",
    "We begin by importing necessary libraries: validators for URL validation, streamlit for creating the web application, PromptTemplate from langchain.prompts for defining the prompt template, ChatGroq from langchain_groq for interacting with the Groq API, load_summarize_chain from langchain.chains.summarize for loading the summarization chain, and UnstructuredURLLoader from langchain_community.document_loaders for loading content from a URL. Additionally, the os module is imported for handling environment variables. Next, the Streamlit app is configured with a title and a subheader. The st.set_page_config function sets the page title to “Text Summarization,” and the st.title and st.subheader functions display the main title and subheader on the app’s interface.\n",
    "<br/>\n",
    "The app then retrieves the Groq API key from Streamlit’s secrets management and initializes the ChatGroq object with the API key and model name. It also creates a text input field for the user to enter the URL of the content to be summarized. The PromptTemplate is defined with a template that instructs the model to provide a summary of the given content in 300 words. When the “Summarize the Content from a Website” button is clicked, the app validates the inputs. If the API key or URL is missing, or if the URL is invalid, appropriate error messages are displayed. If the inputs are valid, the app attempts to load the content from the URL using UnstructuredURLLoader. The loader is configured to bypass SSL verification and use a specific user-agent header.\n",
    "<br/>\n",
    "The loaded content is then passed to the summarization chain, which is created using the load_summarize_chain function. The chain processes the content and generates a summary based on the defined prompt. The summary is displayed on the app’s interface using st.success. If any exceptions occur during this process, they are caught and displayed using st.exception.\n",
    "<br/>\n",
    "\n",
    "</p>"
   ]
  },
  {
   "cell_type": "code",
   "execution_count": null,
   "metadata": {},
   "outputs": [],
   "source": [
    "#Step3"
   ]
  },
  {
   "cell_type": "markdown",
   "metadata": {},
   "source": [
    "<p>\n",
    "\n",
    "<br>\n",
    "<br>\n",
    "\n",
    "</p>"
   ]
  },
  {
   "cell_type": "code",
   "execution_count": null,
   "metadata": {},
   "outputs": [],
   "source": [
    "#Step4"
   ]
  },
  {
   "cell_type": "markdown",
   "metadata": {},
   "source": [
    "<p>\n",
    "\n",
    "<br>\n",
    "<br>\n",
    "\n",
    "</p>"
   ]
  },
  {
   "cell_type": "code",
   "execution_count": null,
   "metadata": {},
   "outputs": [],
   "source": [
    "#Step5"
   ]
  },
  {
   "cell_type": "markdown",
   "metadata": {},
   "source": [
    "<p>\n",
    "\n",
    "<br>\n",
    "<br>\n",
    "\n",
    "</p>"
   ]
  }
 ],
 "metadata": {
  "kernelspec": {
   "display_name": "mlenv",
   "language": "python",
   "name": "python3"
  },
  "language_info": {
   "name": "python",
   "version": "3.10.13"
  }
 },
 "nbformat": 4,
 "nbformat_minor": 2
}
