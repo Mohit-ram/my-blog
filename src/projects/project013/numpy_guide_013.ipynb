{
 "cells": [
  {
   "cell_type": "markdown",
   "metadata": {},
   "source": [
    "# prj js object\n",
    "js object\n",
    "const prj = {Id: 13,\n",
    "    number: \"013\",\n",
    "    title: \"Starting guide to Numpy\",\n",
    "    info: \"All the useful numpy functions, concepts, operations in one guide\",\n",
    "    subInfo: \"ArrayCreation, MathOperations, nD-arrays, Slicing, Stacking\",\n",
    "    imgPath: thb[13],\n",
    "    category: \"cat-c\",\n",
    "    dataSource: \"link\",\n",
    "}"
   ]
  },
  {
   "cell_type": "markdown",
   "metadata": {},
   "source": [
    "Task: explain code into paragraphs briefly and at last provide code with proper comments.\n",
    "Style: Academic\n",
    "Tone: Professional and 1st person\n",
    "Audience: 30-year old\n",
    "Format: Text\n"
   ]
  },
  {
   "cell_type": "code",
   "execution_count": null,
   "metadata": {},
   "outputs": [],
   "source": [
    "#Array Operations\n",
    "# Creating a 1D array\n",
    "arr1 = np.array([1, 2, 3, 4, 5])\n",
    "# Creating a 2D array\n",
    "arr2 = np.array([[1, 2, 3], [4, 5, 6]])\n",
    "\n",
    "arr = np.array([1, 2, 3, 4, 5])\n",
    "\n",
    "# Indexing and Slicing\n",
    "# Accessing an element\n",
    "element = arr[2]  # Output: 3\n",
    "\n",
    "arr = np.array([10, 20, 30, 40, 50])\n",
    "# Access elements at indices 1, 3, and 4\n",
    "result = arr[[1, 3, 4]]  # Output: [20, 40, 50]\n",
    "\n",
    "# Slicing an array\n",
    "slice_arr = arr[1:4]  # Output: [2, 3, 4]\n",
    "\n",
    "#Reshaping Arrays\n",
    "arr = np.array([[1, 2, 3], [4, 5, 6]])\n",
    "\n",
    "# Reshaping the array to 3x2\n",
    "reshaped_arr = arr.reshape(3, 2)\n",
    "\n",
    "\n",
    "\n"
   ]
  },
  {
   "cell_type": "markdown",
   "metadata": {},
   "source": [
    "<p>\n",
    "\n",
    "<br>\n",
    "<br>\n",
    "\n",
    "</p>"
   ]
  },
  {
   "cell_type": "code",
   "execution_count": null,
   "metadata": {},
   "outputs": [],
   "source": [
    "# Mathematical Operations\n",
    "# Adding two arrays\n",
    "arr1 = np.array([1, 2, 3])\n",
    "arr2 = np.array([4, 5, 6])\n",
    "result = arr1 + arr2  # Output: [5, 7, 9]\n",
    "\n",
    "# Multiplying two arrays\n",
    "result = arr1 * arr2  # Output: [4, 10, 18]\n",
    "\n",
    "arr = np.array([1, 2, 3, 4, 5])\n",
    "\n",
    "# Calculating the sum of all elements\n",
    "sum_arr = np.sum(arr)  # Output: 15\n",
    "\n",
    "# Calculating the mean of all elements\n",
    "mean_arr = np.mean(arr)  # Output: 3.0\n",
    "\n",
    "# Calculating the standard deviation\n",
    "std_arr = np.std(arr)  # Output: 1.4142135623730951\n",
    "\n",
    "\n",
    "\n",
    "\n",
    "\n"
   ]
  },
  {
   "cell_type": "markdown",
   "metadata": {},
   "source": [
    "<p>\n",
    "\n",
    "<br>\n",
    "<br>\n",
    "\n",
    "</p>"
   ]
  },
  {
   "cell_type": "code",
   "execution_count": null,
   "metadata": {},
   "outputs": [],
   "source": [
    "#Random numbers\n",
    "# Generate an array of random numbers\n",
    "random_arr = np.random.rand(3, 3)\n",
    "\n",
    "# Generate random integers\n",
    "random_ints = np.random.randint(0, 10, size=(3, 3))\n",
    "\n",
    "# Set a random seed for reproducibility\n",
    "np.random.seed(42)\n",
    "random_arr = np.random.rand(3, 3)\n"
   ]
  },
  {
   "cell_type": "markdown",
   "metadata": {},
   "source": [
    "<p>\n",
    "\n",
    "<br>\n",
    "<br>\n",
    "\n",
    "</p>"
   ]
  },
  {
   "cell_type": "code",
   "execution_count": null,
   "metadata": {},
   "outputs": [],
   "source": [
    "#Stacking arrays\n",
    "arr = np.array([[1, 2], [3, 4], [5, 6]])\n",
    "\n",
    "# Split the array into three parts\n",
    "split_arr = np.split(arr, 3)\n",
    "\n",
    "# Stack arrays vertically\n",
    "vstack_arr = np.vstack((arr, arr))\n",
    "\n",
    "# Stack arrays horizontally\n",
    "hstack_arr = np.hstack((arr, arr))\n"
   ]
  },
  {
   "cell_type": "markdown",
   "metadata": {},
   "source": [
    "<p>\n",
    "\n",
    "<br>\n",
    "<br>\n",
    "\n",
    "</p>"
   ]
  },
  {
   "cell_type": "code",
   "execution_count": null,
   "metadata": {},
   "outputs": [],
   "source": [
    "#2D and 3D arrays\n",
    "# Creating an array of zeros\n",
    "zeros = np.zeros((3, 3))\n",
    "\n",
    "# Creating an array of ones\n",
    "ones = np.ones((2, 4))\n",
    "\n",
    "# Creating an array with a range of values\n",
    "range_array = np.arange(0, 10, 2)  # Output: [0, 2, 4, 6, 8]\n",
    "\n",
    "# Creating an array with random values\n",
    "random_array = np.random.rand(3, 3)\n",
    "\n",
    "\n",
    "#Dot product\n",
    "arr1 = np.array([1, 2, 3])\n",
    "arr2 = np.array([4, 5, 6])\n",
    "\n",
    "dot_product = np.dot(arr1, arr2)  # Output: 32\n",
    "\n",
    "# Creating matrices\n",
    "matrix1 = np.array([[1, 2], [3, 4]])\n",
    "matrix2 = np.array([[5, 6], [7, 8]])\n",
    "\n",
    "# Matrix multiplication\n",
    "result = np.matmul(matrix1, matrix2)  # Output: [[19, 22], [43, 50]]\n",
    "\n",
    "# Eigenvalues and eigenvectors\n",
    "eigenvalues, eigenvectors = np.linalg.eig(matrix1)\n"
   ]
  },
  {
   "cell_type": "markdown",
   "metadata": {},
   "source": [
    "<p>\n",
    "\n",
    "<br>\n",
    "<br>\n",
    "\n",
    "</p>"
   ]
  }
 ],
 "metadata": {
  "kernelspec": {
   "display_name": "mlenv",
   "language": "python",
   "name": "python3"
  },
  "language_info": {
   "name": "python",
   "version": "3.10.13"
  }
 },
 "nbformat": 4,
 "nbformat_minor": 2
}
