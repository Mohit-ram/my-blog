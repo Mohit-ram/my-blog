{
 "cells": [
  {
   "cell_type": "markdown",
   "metadata": {},
   "source": [
    "# prj js object\n",
    "js object\n",
    "const prj = {Id: 21,\n",
    "    number: \"021\",\n",
    "    title: \"Langchain: Retain Chat Message history\",\n",
    "    info: \"Project demonstrates various chat history retaining techniques in Langchain, that can be later used in chatBots and Agents\",\n",
    "    subInfo: \"LangChain, Chains, Prompts, RunnableWithMessageHistory\",\n",
    "    imgPath: thb[0],\n",
    "    category: \"cat-c\",\n",
    "    dataSource: \"link\",\n",
    "}"
   ]
  },
  {
   "cell_type": "markdown",
   "metadata": {},
   "source": [
    "This is an Intermediate project and, in this page first we see how general chains fail to retreive chat message history. Then we use RunnableWithMeassageHistory classes to retain history in two case, one without prompt and later with prompt_template."
   ]
  },
  {
   "cell_type": "markdown",
   "metadata": {},
   "source": [
    "Task: explain code into paragraphs briefly and at last provide code with proper comments.\n",
    "Style: Academic\n",
    "Tone: Professional and 1st person\n",
    "Audience: 30-year old\n",
    "Format: Text\n"
   ]
  },
  {
   "cell_type": "markdown",
   "metadata": {},
   "source": [
    "#Step1\n",
    "<p>Project intro</p>\n",
    "      <h4></h4>\n",
    "      <Code\n",
    "        code={`\n",
    "          \n",
    "          `}\n",
    "      />\n",
    "      <p>\n",
    "        <br />\n",
    "        <br />\n",
    "      </p>\n",
    "\n",
    "<div className=\"d-block text-center\">\n",
    "        <img\n",
    "          src={img02}\n",
    "          alt=\"result1\"\n",
    "          style={{ height: \"300px\", width: \"300px\" }}\n",
    "        />\n",
    "</div>"
   ]
  },
  {
   "cell_type": "markdown",
   "metadata": {},
   "source": [
    "<p>\n",
    "\n",
    "<br>\n",
    "<br>\n",
    "\n",
    "</p>"
   ]
  },
  {
   "cell_type": "code",
   "execution_count": null,
   "metadata": {},
   "outputs": [],
   "source": [
    "#History Check\n",
    "#Load model\n",
    "import os\n",
    "from dotenv import load_dotenv\n",
    "load_dotenv() ## aloading all the environment variable\n",
    "\n",
    "groq_api_key=os.getenv(\"GROQ_API_KEY\")\n",
    "from langchain_groq import ChatGroq\n",
    "model=ChatGroq(model=\"Gemma2-9b-It\",groq_api_key=groq_api_key)\n",
    "\n",
    "#check message history\n",
    "from langchain_core.messages import HumanMessage\n",
    "out1= model.invoke([HumanMessage(content=\"Hi , My name is Moiht, I am an AI engineer\")])\n",
    "out2= model.invoke([HumanMessage(content=\"what is my name?\")])"
   ]
  },
  {
   "cell_type": "markdown",
   "metadata": {},
   "source": []
  },
  {
   "cell_type": "markdown",
   "metadata": {},
   "source": [
    "<p>\n",
    "out1:\n",
    "AIMessage(content=\"Hello Moiht, it's nice to meet you! )\n",
    "<br/>\n",
    "out2:\n",
    "AIMessage(content=\"As an AI, I have no memory of past conversations \n",
    "<br/>\n",
    "</p>"
   ]
  },
  {
   "cell_type": "code",
   "execution_count": null,
   "metadata": {},
   "outputs": [],
   "source": [
    "#Step3#To retain message history\n",
    "from langchain_community.chat_message_histories import ChatMessageHistory\n",
    "from langchain_core.chat_history import BaseChatMessageHistory\n",
    "from langchain_core.runnables.history import RunnableWithMessageHistory\n",
    "\n",
    "store={}\n",
    "\n",
    "def get_session_history(session_id:str)->BaseChatMessageHistory:\n",
    "    if session_id not in store:\n",
    "        store[session_id]=ChatMessageHistory()\n",
    "    return store[session_id]\n",
    "\n",
    "with_message_history=RunnableWithMessageHistory(model,get_session_history)\n",
    "\n",
    "#config to chat1\n",
    "config_1 = {\"configurable\":{'session_id':'chat1'}}\n",
    "response1 = with_message_history.invoke(\n",
    "    [HumanMessage(content=\"Hi , My name is Moiht, I am an AI engineer\")],\n",
    "    config=config_1\n",
    ")\n",
    "response2 = with_message_history.invoke(\n",
    "    [HumanMessage(content=\"What is my name\")],\n",
    "    config=config_1\n",
    ")\n"
   ]
  },
  {
   "cell_type": "markdown",
   "metadata": {},
   "source": [
    "<p>\n",
    "response1\n",
    "AIMessage(content=\"Hi Moiht, \\n\\nWelcome! It's great to have another AI engineer in the mix.)\n",
    "<br/>\n",
    "response2\n",
    "AIMessage(content='Your name is Moiht. 😊  \\n\\nI remember that you introduced yourself!  Is there anything else I can help you with?\\n')\n",
    "<br/>\n",
    "\n",
    "</p>"
   ]
  },
  {
   "cell_type": "code",
   "execution_count": null,
   "metadata": {},
   "outputs": [],
   "source": [
    "#Step4 MessageHistory with prompt template\n",
    "from langchain_core.prompts import ChatPromptTemplate, MessagesPlaceholder\n",
    "\n",
    "prompt = ChatPromptTemplate.from_messages(\n",
    "    [\n",
    "        (\n",
    "            \"system\",\n",
    "            \"You are a helpful assistant. Answer all questions to the best of your ability in {language}.\",\n",
    "        ),\n",
    "        MessagesPlaceholder(variable_name=\"messages\"),\n",
    "    ]\n",
    ")\n",
    "#LCEL chaining components\n",
    "chain = prompt|model\n",
    "with_message_history_new=RunnableWithMessageHistory(chain,\n",
    "                                                    get_session_history,\n",
    "                                                    input_messages_key=\"messages\")\n",
    "\n",
    "config_2 = {\"configurable\":{'session_id':'chat2'}}\n",
    "response1 = with_message_history_new.invoke(\n",
    "    {'messages':[HumanMessage(content=\"my name is Mohit\")], 'language': 'French'},\n",
    "    config=config_2\n",
    ")\n",
    "response2 = with_message_history_new.invoke(\n",
    "    {'messages':[HumanMessage(content=\"what is my name\")], 'language': 'spanish'},\n",
    "    config=config_2\n",
    ")\n"
   ]
  },
  {
   "cell_type": "markdown",
   "metadata": {},
   "source": [
    "<p>\n",
    "response1\n",
    "AIMessage(content=\"Enchanté, Mohit !  \\n\\nC'est un plaisir de vous connaître.)\n",
    "<br/>\n",
    "response2\n",
    "AIMessage(content='Tu te llamas Mohit)\n",
    "<br/>\n",
    "\n",
    "</p>"
   ]
  },
  {
   "cell_type": "code",
   "execution_count": null,
   "metadata": {},
   "outputs": [],
   "source": [
    "#Step5"
   ]
  },
  {
   "cell_type": "markdown",
   "metadata": {},
   "source": [
    "<p>\n",
    "\n",
    "<br>\n",
    "<br>\n",
    "\n",
    "</p>"
   ]
  }
 ],
 "metadata": {
  "kernelspec": {
   "display_name": "mlenv",
   "language": "python",
   "name": "python3"
  },
  "language_info": {
   "name": "python",
   "version": "3.10.13"
  }
 },
 "nbformat": 4,
 "nbformat_minor": 2
}
