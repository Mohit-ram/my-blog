{
 "cells": [
  {
   "cell_type": "markdown",
   "metadata": {},
   "source": [
    "# prj js object\n",
    "js object\n",
    "const prj = {Id: 12,\n",
    "    number: \"012\",\n",
    "    title: \"Effortless visualisation using pandas\",\n",
    "    info: \"Basic simple pandas functions for quickly visualise directly from dataframes. \",\n",
    "    subInfo: \"Hist plot, scatterPlot, BarPlot, KDEPlot, BoxPlot\",\n",
    "    imgPath: thb[12],\n",
    "    category: \"cat-c\",\n",
    "    dataSource: \"link\",\n",
    "}"
   ]
  },
  {
   "cell_type": "markdown",
   "metadata": {},
   "source": [
    "Task: explain code into paragraphs briefly and at last provide code with proper comments.\n",
    "Style: Academic\n",
    "Tone: Professional and 1st person\n",
    "Audience: 30-year old\n",
    "Format: Text\n"
   ]
  },
  {
   "cell_type": "code",
   "execution_count": null,
   "metadata": {},
   "outputs": [],
   "source": [
    "#Step1\n",
    "import numpy as np\n",
    "import pandas as pd"
   ]
  },
  {
   "cell_type": "markdown",
   "metadata": {},
   "source": [
    "\n",
    "<h4> Plot Types </h4>\n",
    "<p>\n",
    "There are several plot types built-in to pandas, most of them statistical plots by nature:\n",
    "<br/>df.plot.area     \n",
    "<br/>df.plot.barh     \n",
    "<br/>df.plot.density  \n",
    "<br/>df.plot.hist     \n",
    "<br/>df.plot.line     \n",
    "<br/>df.plot.scatter\n",
    "<br/>df.plot.bar      \n",
    "<br/>df.plot.box      \n",
    "<br/>df.plot.hexbin   \n",
    "<br/>df.plot.kde      \n",
    "<br/>df.plot.pie\n",
    "<br/>\n",
    "\n",
    "</p>"
   ]
  },
  {
   "cell_type": "code",
   "execution_count": null,
   "metadata": {},
   "outputs": [],
   "source": [
    "\n",
    "df2.plot.area(alpha=0.4)\n",
    "df2.plot.bar(stacked=True)\n",
    "df1['A'].plot.hist(bins=50)\n",
    "df1.plot.line(x=df1.index,y='B',figsize=(12,3),lw=1)\n",
    "df1.plot.scatter(x='A',y='B',c='C',cmap='coolwarm')\n",
    "df1.plot.scatter(x='A',y='B',s=df1['C']*200)\n",
    "df2.plot.box()\n",
    "df = pd.DataFrame(np.random.randn(1000, 2), columns=['a', 'b'])\n",
    "df.plot.hexbin(x='a',y='b',gridsize=25,cmap='Oranges')\n",
    "df2['a'].plot.kde()\n",
    "df2.plot.density()"
   ]
  },
  {
   "cell_type": "markdown",
   "metadata": {},
   "source": [
    "<p>\n",
    "Below is the code with appropriate comments for various plots in pandas. Dataframes df1 and df2 are random generated float values to understand the plots.\n",
    "<br>\n",
    "<br>\n",
    "\n",
    "</p>"
   ]
  },
  {
   "cell_type": "code",
   "execution_count": null,
   "metadata": {},
   "outputs": [],
   "source": [
    "\n",
    "import numpy as np\n",
    "import pandas as pd\n",
    "# Plot an area chart with 40% transparency\n",
    "df2.plot.area(alpha=0.4)\n",
    "# Plot a stacked bar chart\n",
    "df2.plot.bar(stacked=True)\n",
    "# Plot a histogram of column 'A' with 50 bins\n",
    "df1['A'].plot.hist(bins=50)\n",
    "# Plot a line chart of column 'B' against the index, with specified figure size and line width\n",
    "df1.plot.line(x=df1.index, y='B', figsize=(12, 3), lw=1)\n",
    "# Plot a scatter plot of 'A' vs 'B', colored by 'C' using the 'coolwarm' colormap\n",
    "df1.plot.scatter(x='A', y='B', c='C', cmap='coolwarm')\n",
    "# Plot a scatter plot of 'A' vs 'B', with marker sizes proportional to 'C'\n",
    "df1.plot.scatter(x='A', y='B', s=df1['C']*200)\n",
    "# Plot a box plot\n",
    "df2.plot.box()\n",
    "# Create a DataFrame with 1000 rows of random numbers in columns 'a' and 'b'\n",
    "df = pd.DataFrame(np.random.randn(1000, 2), columns=['a', 'b'])\n",
    "# Plot a hexbin plot of 'a' vs 'b' with a grid size of 25 and the 'Oranges' colormap\n",
    "df.plot.hexbin(x='a', y='b', gridsize=25, cmap='Oranges')\n",
    "# Plot a Kernel Density Estimate (KDE) plot of column 'a'\n",
    "df2['a'].plot.kde()\n",
    "# Plot a density plot for all columns in df2\n",
    "df2.plot.density()\n"
   ]
  },
  {
   "cell_type": "markdown",
   "metadata": {},
   "source": [
    "<p>\n",
    "\n",
    "<br>\n",
    "<br>\n",
    "\n",
    "</p>"
   ]
  },
  {
   "cell_type": "code",
   "execution_count": null,
   "metadata": {},
   "outputs": [],
   "source": [
    "#Step4"
   ]
  },
  {
   "cell_type": "markdown",
   "metadata": {},
   "source": [
    "<p>\n",
    "\n",
    "<br>\n",
    "<br>\n",
    "\n",
    "</p>"
   ]
  },
  {
   "cell_type": "code",
   "execution_count": null,
   "metadata": {},
   "outputs": [],
   "source": [
    "#Step5"
   ]
  },
  {
   "cell_type": "markdown",
   "metadata": {},
   "source": [
    "<p>\n",
    "\n",
    "<br>\n",
    "<br>\n",
    "\n",
    "</p>"
   ]
  }
 ],
 "metadata": {
  "kernelspec": {
   "display_name": "mlenv",
   "language": "python",
   "name": "python3"
  },
  "language_info": {
   "name": "python",
   "version": "3.10.13"
  }
 },
 "nbformat": 4,
 "nbformat_minor": 2
}
