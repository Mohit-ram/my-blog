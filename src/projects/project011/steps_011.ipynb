{
 "cells": [
  {
   "cell_type": "markdown",
   "metadata": {},
   "source": [
    "# prj js object\n",
    "js object\n",
    "const prj = {Id: 11,\n",
    "    number: \"011\",\n",
    "    title: \"SQL advanced queries\",\n",
    "    info: \"mUltiple advanced queries to  thoroughly explore and analyse data on a custom created dataset\",\n",
    "    subInfo: \"SUBQUERIES, UNIONS, WindowFunctions, OVER, RANK\" \n",
    "    imgPath: thb[11],\n",
    "    category: \"cat-c\",\n",
    "    dataSource: \"\",\n",
    "}"
   ]
  },
  {
   "cell_type": "markdown",
   "metadata": {},
   "source": [
    "Task: explain code into paragraphs briefly and at last provide code with proper comments.\n",
    "Style: Academic\n",
    "Tone: Professional and 1st person\n",
    "Audience: 30-year old\n",
    "Format: Text\n"
   ]
  },
  {
   "cell_type": "markdown",
   "metadata": {},
   "source": [
    "<h4>Query 1</h4>\n",
    "1. Write a query that returns the following:emp_id,first_name,last_name, position_title, salary and a column that returns the average salary for every job_position. Order the results by the emp_id.\n",
    "<br/>\n",
    "2.How many people earn less than there avg_position_salary?\n",
    "<br/>\n",
    "3.Write a query that answers that question.Ideally, the output just shows that number directly.\n",
    "\n",
    "<Code>\n",
    "SELECT\n",
    "emp_id,\n",
    "first_name,\n",
    "last_name,\n",
    "position_title,\n",
    "salary,\n",
    "ROUND(AVG(salary) OVER(PARTITION BY position_title),2) as avg_position_sal\n",
    "FROM employees\n",
    "ORDER BY 1;\n",
    "\n",
    "SELECT\n",
    "COUNT(*)\n",
    "FROM (\n",
    "SELECT \n",
    "emp_id,\n",
    "salary,\n",
    "ROUND(AVG(salary) OVER(PARTITION BY position_title),2) as avg_pos_sal\n",
    "FROM employees) a\n",
    "WHERE salary < avg_pos_sal;\n",
    "\n",
    "</Code>\n",
    "<br/>\n",
    "<br/>\n",
    "<h4>Query 2</h4>\n",
    "Write a query that returns a running total of the salary development ordered by the start_date.\n",
    "<Code>\n",
    "SELECT \n",
    "emp_id,\n",
    "salary,\n",
    "start_date,\n",
    "SUM(salary) OVER(ORDER BY start_date) as salary_totals\n",
    "FROM employees;\n",
    "</Code>\n",
    "<br/>\n",
    "<br/>\n",
    "<h4>Query 3 </h4>\n",
    "Create the same running total but now also consider the fact that people were leaving the company.\n",
    "\n",
    "<Code>\n",
    "SELECT \n",
    "start_date,\n",
    "SUM(salary) OVER(ORDER BY start_date)\n",
    "FROM (\n",
    "SELECT \n",
    "emp_id,\n",
    "salary,\n",
    "start_date\n",
    "FROM employees\n",
    "UNION \n",
    "SELECT \n",
    "emp_id,\n",
    "-salary,\n",
    "end_date\n",
    "FROM v_employees_info\n",
    "WHERE is_active ='false'\n",
    "ORDER BY start_date) a \n",
    "</Code>\n",
    "<br/>\n",
    "<br/>\n",
    "<h4>Query 4 </h4>\n",
    "1. Write a query that outputs only the top earner per position_title including first_name and position_title and their salary.\n",
    "<br/>\n",
    "<Code>\n",
    "SELECT\n",
    "first_name,\n",
    "position_title,\n",
    "salary\n",
    "FROM employees e1\n",
    "WHERE salary = (SELECT MAX(salary)\n",
    "\t\t\t   FROM employees e2\n",
    "\t\t\t   WHERE e1.position_title=e2.position_title)\n",
    "\n",
    "</Code>\n",
    "<br/>\n",
    "<br/>\n",
    "<h4>Query 5 </h4>\n",
    "Write a query that returns all meaningful aggregations of: sum of salary, number of employees, average salary grouped by all meaningful combinations of division, department, position_title.\n",
    "<Code>\n",
    "SELECT \n",
    "division,\n",
    "department,\n",
    "position_title,\n",
    "SUM(salary),\n",
    "COUNT(*),\n",
    "ROUND(AVG(salary),2)\n",
    "FROM employees\n",
    "NATURAL JOIN departments\n",
    "GROUP BY \n",
    "ROLLUP(\n",
    "division,\n",
    "department,\n",
    "position_title\n",
    ")\n",
    "ORDER BY 1,2,3\n",
    "</Code>\n",
    "<br/>\n",
    "<br/>\n",
    "<h4>Query 6 </h4>\n",
    "Write a query that returns all employees (emp_id) including their position_title, department, their salary, and the rank of that salary partitioned by department. The highest salary per division should have rank 1.\n",
    "<Code>\n",
    "SELECT\n",
    "emp_id,\n",
    "position_title,\n",
    "department,\n",
    "salary,\n",
    "RANK() OVER(PARTITION BY department ORDER BY salary DESC)\n",
    "FROM employees\n",
    "NATURAL LEFT JOIN department\n",
    "</Code>\n",
    "<br/>\n",
    "<br/>\n",
    "<h4>Query 7 </h4>\n",
    "Write a query that returns only the top earner of each department including their emp_id, position_title, department, and their salary.\n",
    "<Code>\n",
    "SELECT * FROM\n",
    "(\n",
    "SELECT\n",
    "emp_id,\n",
    "position_title,\n",
    "department,\n",
    "salary,\n",
    "RANK() OVER(PARTITION BY department ORDER BY salary DESC)\n",
    "FROM employees\n",
    "NATURAL LEFT JOIN departments) a\n",
    "WHERE rank=1\n",
    "</Code>\n",
    "<br/>\n",
    "<br/>"
   ]
  },
  {
   "cell_type": "code",
   "execution_count": null,
   "metadata": {},
   "outputs": [],
   "source": [
    "#Step2"
   ]
  },
  {
   "cell_type": "markdown",
   "metadata": {},
   "source": [
    "<p>\n",
    "\n",
    "<br>\n",
    "<br>\n",
    "\n",
    "</p>"
   ]
  },
  {
   "cell_type": "code",
   "execution_count": null,
   "metadata": {},
   "outputs": [],
   "source": [
    "#Step3"
   ]
  },
  {
   "cell_type": "markdown",
   "metadata": {},
   "source": [
    "<p>\n",
    "\n",
    "<br>\n",
    "<br>\n",
    "\n",
    "</p>"
   ]
  },
  {
   "cell_type": "code",
   "execution_count": null,
   "metadata": {},
   "outputs": [],
   "source": [
    "#Step4"
   ]
  },
  {
   "cell_type": "markdown",
   "metadata": {},
   "source": [
    "<p>\n",
    "\n",
    "<br>\n",
    "<br>\n",
    "\n",
    "</p>"
   ]
  },
  {
   "cell_type": "code",
   "execution_count": null,
   "metadata": {},
   "outputs": [],
   "source": [
    "#Step5"
   ]
  },
  {
   "cell_type": "markdown",
   "metadata": {},
   "source": [
    "<p>\n",
    "\n",
    "<br>\n",
    "<br>\n",
    "\n",
    "</p>"
   ]
  }
 ],
 "metadata": {
  "kernelspec": {
   "display_name": "mlenv",
   "language": "python",
   "name": "python3"
  },
  "language_info": {
   "name": "python",
   "version": "3.10.13"
  }
 },
 "nbformat": 4,
 "nbformat_minor": 2
}
